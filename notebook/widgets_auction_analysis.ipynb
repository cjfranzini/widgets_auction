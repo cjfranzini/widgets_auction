{
 "cells": [
  {
   "cell_type": "code",
   "execution_count": 1,
   "metadata": {
    "ExecuteTime": {
     "end_time": "2017-08-27T17:41:36.817563Z",
     "start_time": "2017-08-27T17:41:33.321015Z"
    },
    "collapsed": true
   },
   "outputs": [],
   "source": [
    "import sqlite3\n",
    "import pandas as pd\n",
    "\n",
    "import matplotlib.pyplot as plt\n",
    "import numpy as np\n",
    "plt.style.use('ggplot')\n",
    "\n",
    "%matplotlib inline"
   ]
  },
  {
   "cell_type": "markdown",
   "metadata": {},
   "source": [
    "### Connect to database and load data"
   ]
  },
  {
   "cell_type": "code",
   "execution_count": 81,
   "metadata": {
    "ExecuteTime": {
     "end_time": "2017-08-27T18:58:59.527143Z",
     "start_time": "2017-08-27T18:58:59.498610Z"
    }
   },
   "outputs": [
    {
     "data": {
      "text/html": [
       "<div>\n",
       "<style>\n",
       "    .dataframe thead tr:only-child th {\n",
       "        text-align: right;\n",
       "    }\n",
       "\n",
       "    .dataframe thead th {\n",
       "        text-align: left;\n",
       "    }\n",
       "\n",
       "    .dataframe tbody tr th {\n",
       "        vertical-align: top;\n",
       "    }\n",
       "</style>\n",
       "<table border=\"1\" class=\"dataframe\">\n",
       "  <thead>\n",
       "    <tr style=\"text-align: right;\">\n",
       "      <th></th>\n",
       "      <th>color</th>\n",
       "      <th>edges</th>\n",
       "      <th>sale_price</th>\n",
       "    </tr>\n",
       "  </thead>\n",
       "  <tbody>\n",
       "    <tr>\n",
       "      <th>1</th>\n",
       "      <td>BLACK</td>\n",
       "      <td>3</td>\n",
       "      <td>17000</td>\n",
       "    </tr>\n",
       "    <tr>\n",
       "      <th>2</th>\n",
       "      <td>BLACK</td>\n",
       "      <td>3</td>\n",
       "      <td>28000</td>\n",
       "    </tr>\n",
       "    <tr>\n",
       "      <th>3</th>\n",
       "      <td>BLACK</td>\n",
       "      <td>3</td>\n",
       "      <td>32000</td>\n",
       "    </tr>\n",
       "    <tr>\n",
       "      <th>4</th>\n",
       "      <td>BLACK</td>\n",
       "      <td>3</td>\n",
       "      <td>35000</td>\n",
       "    </tr>\n",
       "    <tr>\n",
       "      <th>5</th>\n",
       "      <td>BLACK</td>\n",
       "      <td>3</td>\n",
       "      <td>42000</td>\n",
       "    </tr>\n",
       "  </tbody>\n",
       "</table>\n",
       "</div>"
      ],
      "text/plain": [
       "   color  edges  sale_price\n",
       "1  BLACK      3       17000\n",
       "2  BLACK      3       28000\n",
       "3  BLACK      3       32000\n",
       "4  BLACK      3       35000\n",
       "5  BLACK      3       42000"
      ]
     },
     "execution_count": 81,
     "metadata": {},
     "output_type": "execute_result"
    }
   ],
   "source": [
    "con = sqlite3.connect('.../rowan/widgets/db/development.sqlite3')\n",
    "cur = con.cursor()\n",
    "\n",
    "data = cur.execute('SELECT * FROM widgets;').fetchall()\n",
    "\n",
    "# extract data into dictionary and load into pandas dataframe\n",
    "data_dict = {i[0]: {'color': i[1], 'edges': i[2], 'sale_price': i[3]} for i in data}\n",
    "df = pd.DataFrame.from_dict(data_dict, orient='index')\n",
    "df.head() # verify it worked"
   ]
  },
  {
   "cell_type": "markdown",
   "metadata": {},
   "source": [
    "### Check data quality"
   ]
  },
  {
   "cell_type": "code",
   "execution_count": 3,
   "metadata": {
    "ExecuteTime": {
     "end_time": "2017-08-27T17:45:23.266854Z",
     "start_time": "2017-08-27T17:45:20.070668Z"
    }
   },
   "outputs": [
    {
     "name": "stdout",
     "output_type": "stream",
     "text": [
      "<class 'pandas.core.frame.DataFrame'>\n",
      "Int64Index: 236 entries, 1 to 236\n",
      "Data columns (total 3 columns):\n",
      "color         236 non-null object\n",
      "edges         236 non-null int64\n",
      "sale_price    236 non-null int64\n",
      "dtypes: int64(2), object(1)\n",
      "memory usage: 7.4+ KB\n"
     ]
    }
   ],
   "source": [
    "df.info()"
   ]
  },
  {
   "cell_type": "code",
   "execution_count": 4,
   "metadata": {
    "ExecuteTime": {
     "end_time": "2017-08-27T17:45:48.671813Z",
     "start_time": "2017-08-27T17:45:48.587201Z"
    }
   },
   "outputs": [
    {
     "data": {
      "text/plain": [
       "array(['BLACK', 'BLUE', 'RED'], dtype=object)"
      ]
     },
     "execution_count": 4,
     "metadata": {},
     "output_type": "execute_result"
    }
   ],
   "source": [
    "df.color.unique()"
   ]
  },
  {
   "cell_type": "code",
   "execution_count": 5,
   "metadata": {
    "ExecuteTime": {
     "end_time": "2017-08-27T17:45:58.028497Z",
     "start_time": "2017-08-27T17:45:55.890968Z"
    }
   },
   "outputs": [
    {
     "data": {
      "text/plain": [
       "array([3, 4, 5])"
      ]
     },
     "execution_count": 5,
     "metadata": {},
     "output_type": "execute_result"
    }
   ],
   "source": [
    "df.edges.unique()"
   ]
  },
  {
   "cell_type": "code",
   "execution_count": 6,
   "metadata": {
    "ExecuteTime": {
     "end_time": "2017-08-27T17:46:10.522195Z",
     "start_time": "2017-08-27T17:46:10.514241Z"
    }
   },
   "outputs": [
    {
     "data": {
      "text/plain": [
       "array([  17000,   28000,   32000,   35000,   42000,   45000,   49000,\n",
       "         50000,   60000,   65000,  100000,   37000,   70000,   75000,\n",
       "         80000,   95000,  115000,  150000,  220000,  270000,   30000,\n",
       "        110000,  120000,  130000,  140000,  145000,  160000,  170000,\n",
       "        200000,  230000,  250000,  300000,  410000,   18000,   23000,\n",
       "         40000,   47000,   55000,   57000,   90000,  190000,   15000,\n",
       "         27000,   72000,  105000,  125000,  135000,  180000,  315000,\n",
       "       1800000,  165000,  175000,  210000,  240000,  260000,  280000,\n",
       "        290000,  325000,  330000,  340000,  370000,  425000,  475000,\n",
       "        485000,  600000,  350000,  185000,  195000,  400000,  480000])"
      ]
     },
     "execution_count": 6,
     "metadata": {},
     "output_type": "execute_result"
    }
   ],
   "source": [
    "df.sale_price.unique()"
   ]
  },
  {
   "cell_type": "code",
   "execution_count": 8,
   "metadata": {
    "ExecuteTime": {
     "end_time": "2017-08-27T17:47:02.647995Z",
     "start_time": "2017-08-27T17:47:02.636387Z"
    }
   },
   "outputs": [
    {
     "name": "stdout",
     "output_type": "stream",
     "text": [
      "Sale Price range: 15000 - 1800000\n"
     ]
    }
   ],
   "source": [
    "print('Sale Price range: {} - {}'.format(df.sale_price.min(), df.sale_price.max()))"
   ]
  },
  {
   "cell_type": "markdown",
   "metadata": {},
   "source": [
    "Data appears clean and reasonable."
   ]
  },
  {
   "cell_type": "markdown",
   "metadata": {},
   "source": [
    "### Generate Cost and Profit features"
   ]
  },
  {
   "cell_type": "code",
   "execution_count": 83,
   "metadata": {
    "ExecuteTime": {
     "end_time": "2017-08-27T18:59:16.919668Z",
     "start_time": "2017-08-27T18:59:16.899235Z"
    }
   },
   "outputs": [
    {
     "data": {
      "text/html": [
       "<div>\n",
       "<style>\n",
       "    .dataframe thead tr:only-child th {\n",
       "        text-align: right;\n",
       "    }\n",
       "\n",
       "    .dataframe thead th {\n",
       "        text-align: left;\n",
       "    }\n",
       "\n",
       "    .dataframe tbody tr th {\n",
       "        vertical-align: top;\n",
       "    }\n",
       "</style>\n",
       "<table border=\"1\" class=\"dataframe\">\n",
       "  <thead>\n",
       "    <tr style=\"text-align: right;\">\n",
       "      <th></th>\n",
       "      <th>color</th>\n",
       "      <th>edges</th>\n",
       "      <th>sale_price</th>\n",
       "      <th>cost</th>\n",
       "      <th>profit</th>\n",
       "    </tr>\n",
       "  </thead>\n",
       "  <tbody>\n",
       "    <tr>\n",
       "      <th>1</th>\n",
       "      <td>BLACK</td>\n",
       "      <td>3</td>\n",
       "      <td>17000.0</td>\n",
       "      <td>60000.0</td>\n",
       "      <td>-43000.0</td>\n",
       "    </tr>\n",
       "    <tr>\n",
       "      <th>2</th>\n",
       "      <td>BLACK</td>\n",
       "      <td>3</td>\n",
       "      <td>28000.0</td>\n",
       "      <td>60000.0</td>\n",
       "      <td>-32000.0</td>\n",
       "    </tr>\n",
       "    <tr>\n",
       "      <th>3</th>\n",
       "      <td>BLACK</td>\n",
       "      <td>3</td>\n",
       "      <td>32000.0</td>\n",
       "      <td>60000.0</td>\n",
       "      <td>-28000.0</td>\n",
       "    </tr>\n",
       "    <tr>\n",
       "      <th>4</th>\n",
       "      <td>BLACK</td>\n",
       "      <td>3</td>\n",
       "      <td>35000.0</td>\n",
       "      <td>60000.0</td>\n",
       "      <td>-25000.0</td>\n",
       "    </tr>\n",
       "    <tr>\n",
       "      <th>5</th>\n",
       "      <td>BLACK</td>\n",
       "      <td>3</td>\n",
       "      <td>42000.0</td>\n",
       "      <td>60000.0</td>\n",
       "      <td>-18000.0</td>\n",
       "    </tr>\n",
       "  </tbody>\n",
       "</table>\n",
       "</div>"
      ],
      "text/plain": [
       "   color  edges  sale_price     cost   profit\n",
       "1  BLACK      3     17000.0  60000.0 -43000.0\n",
       "2  BLACK      3     28000.0  60000.0 -32000.0\n",
       "3  BLACK      3     32000.0  60000.0 -28000.0\n",
       "4  BLACK      3     35000.0  60000.0 -25000.0\n",
       "5  BLACK      3     42000.0  60000.0 -18000.0"
      ]
     },
     "execution_count": 83,
     "metadata": {},
     "output_type": "execute_result"
    }
   ],
   "source": [
    "df['cost'] = df.edges * 20000. # $20,000 per edge\n",
    "df['profit'] = df.sale_price - df.cost\n",
    "df.head() # verify it worked"
   ]
  },
  {
   "cell_type": "markdown",
   "metadata": {},
   "source": [
    "### Color Analysis"
   ]
  },
  {
   "cell_type": "code",
   "execution_count": 51,
   "metadata": {
    "ExecuteTime": {
     "end_time": "2017-08-27T18:32:01.018803Z",
     "start_time": "2017-08-27T18:32:00.128932Z"
    }
   },
   "outputs": [
    {
     "name": "stdout",
     "output_type": "stream",
     "text": [
      "Widgets Sold\n",
      "-------------\n",
      "Black: 63 (26.69%)\n",
      "Blue: 128 (54.24%)\n",
      "Red: 45 (19.07%)\n",
      "Total: 236\n"
     ]
    },
    {
     "data": {
      "image/png": "[encoded data removed]",
      "text/plain": [
       "<matplotlib.figure.Figure at 0x11a6f5e10>"
      ]
     },
     "metadata": {},
     "output_type": "display_data"
    }
   ],
   "source": [
    "# plot distribution of color\n",
    "fig = plt.figure(figsize=(10,6))\n",
    "ax = df.groupby('color')['color'].count().plot(x='color', kind='bar', color=['k','b','r']);\n",
    "ax.set(xlabel='Color',\n",
    "      ylabel='Count',\n",
    "      title='Widget Sales by Color');\n",
    "\n",
    "print('Widgets Sold\\n'\n",
    "      '-------------\\n'\n",
    "     'Black: {} ({:.2f}%)\\n'\n",
    "     'Blue: {} ({:.2f}%)\\n'\n",
    "     'Red: {} ({:.2f}%)\\n'\n",
    "      'Total: {}'.format(df[df.color == 'BLACK'].shape[0],\n",
    "                         (df[df.color == 'BLACK'].shape[0] / df.shape[0] * 100),\n",
    "                         df[df.color == 'BLUE'].shape[0],\n",
    "                         (df[df.color == 'BLUE'].shape[0] / df.shape[0] * 100),\n",
    "                         df[df.color == 'RED'].shape[0],\n",
    "                         (df[df.color == 'RED'].shape[0] / df.shape[0] * 100),\n",
    "                         df.shape[0]))"
   ]
  },
  {
   "cell_type": "markdown",
   "metadata": {},
   "source": [
    "236 widgets were sold at the auction in total. We had the fewest sales, with Red widgets comprising less than 20% of the total sales. Black widgets amounted to a little more than a quarter of sales and Blue widgets were the largest portion of sales, comprising more than 50% of the total sales. Without more information it is hard to say whether Blue widgets were more desirable or there were more Blue widgets available. Either way, there is room for us to improve our share of the widget market."
   ]
  },
  {
   "cell_type": "markdown",
   "metadata": {},
   "source": [
    "### Edges Analysis"
   ]
  },
  {
   "cell_type": "code",
   "execution_count": 46,
   "metadata": {
    "ExecuteTime": {
     "end_time": "2017-08-27T18:21:32.227537Z",
     "start_time": "2017-08-27T18:21:30.849548Z"
    },
    "run_control": {
     "marked": false
    }
   },
   "outputs": [
    {
     "data": {
      "image/png": "[encoded data removed]",
      "text/plain": [
       "<matplotlib.figure.Figure at 0x119dd8e10>"
      ]
     },
     "metadata": {},
     "output_type": "display_data"
    }
   ],
   "source": [
    "plt.subplots(2,2, figsize=(14,14));\n",
    "\n",
    "plt.subplot(221)\n",
    "ax = df.edges.hist()\n",
    "ax.set(xlabel='Edges',\n",
    "      ylabel='Count',\n",
    "      title='Distribution of Edges',\n",
    "      xticks=[2,3,4,5,6],\n",
    "      xlim=(2.8, 5.2),\n",
    "      ylim=(0,130));\n",
    "\n",
    "plt.subplot(222)\n",
    "ax = df[df.color == 'BLACK']['edges'].hist(color='k');\n",
    "ax.set(xlabel='Edges',\n",
    "      ylabel='Count',\n",
    "      title='Distribution of Edges, BLACK',\n",
    "      xticks=[2,3,4,5,6],\n",
    "      xlim=(2.8, 5.2),\n",
    "      ylim=(0,130));\n",
    "\n",
    "plt.subplot(223)\n",
    "ax = df[df.color == 'BLUE']['edges'].hist(color='b');\n",
    "ax.set(xlabel='Edges',\n",
    "      ylabel='Count',\n",
    "      title='Distribution of Edges, BLUE',\n",
    "      xticks=[2,3,4,5,6],\n",
    "      xlim=(2.8, 5.2),\n",
    "      ylim=(0,130));\n",
    "\n",
    "plt.subplot(224)\n",
    "ax = df[df.color == 'RED']['edges'].hist(color='r');\n",
    "ax.set(xlabel='Edges',\n",
    "      ylabel='Count',\n",
    "      title='Distribution of Edges, RED',\n",
    "      xticks=[2,3,4,5,6],\n",
    "      xlim=(2.8, 5.2),\n",
    "      ylim=(0,130));"
   ]
  },
  {
   "cell_type": "markdown",
   "metadata": {},
   "source": [
    "Overall, the number of widgets sold was proportional to the number of edges. So, the more edges the more widgets sold. However, while the Blue, Black, and overall sale of widgets exhibited a relatively steady increase in sales from three to four to five sides. We sold considerably more five-sided widgets than three- or four-sided widgets. This means that, relatively speaking, we had a higher average cost than our competitors by almost $10,000 per widget."
   ]
  },
  {
   "cell_type": "code",
   "execution_count": 50,
   "metadata": {
    "ExecuteTime": {
     "end_time": "2017-08-27T18:31:50.091953Z",
     "start_time": "2017-08-27T18:31:50.078007Z"
    }
   },
   "outputs": [
    {
     "name": "stdout",
     "output_type": "stream",
     "text": [
      "Average Cost per Widget\n",
      "-------------------------\n",
      "Black: 83174.60\n",
      "Blue: 82343.75\n",
      "Red: 92888.89\n",
      "Total: 84576.27\n"
     ]
    }
   ],
   "source": [
    "print('Average Cost per Widget\\n'\n",
    "      '-------------------------\\n'\n",
    "     'Black: {:.2f}\\n'\n",
    "     'Blue: {:.2f}\\n'\n",
    "     'Red: {:.2f}\\n'\n",
    "      'Total: {:.2f}'.format(df[df.color == 'BLACK'].cost.mean(),\n",
    "                         df[df.color == 'BLUE'].cost.mean(),\n",
    "                         df[df.color == 'RED'].cost.mean(),\n",
    "                         df.cost.mean()))"
   ]
  },
  {
   "cell_type": "markdown",
   "metadata": {},
   "source": [
    "### Sale Price Analysis"
   ]
  },
  {
   "cell_type": "code",
   "execution_count": 47,
   "metadata": {
    "ExecuteTime": {
     "end_time": "2017-08-27T18:28:33.740911Z",
     "start_time": "2017-08-27T18:28:32.635223Z"
    }
   },
   "outputs": [
    {
     "data": {
      "text/html": [
       "<div>\n",
       "<style>\n",
       "    .dataframe thead tr:only-child th {\n",
       "        text-align: right;\n",
       "    }\n",
       "\n",
       "    .dataframe thead th {\n",
       "        text-align: left;\n",
       "    }\n",
       "\n",
       "    .dataframe tbody tr th {\n",
       "        vertical-align: top;\n",
       "    }\n",
       "</style>\n",
       "<table border=\"1\" class=\"dataframe\">\n",
       "  <thead>\n",
       "    <tr style=\"text-align: right;\">\n",
       "      <th></th>\n",
       "      <th>count</th>\n",
       "      <th>mean</th>\n",
       "      <th>std</th>\n",
       "      <th>min</th>\n",
       "      <th>25%</th>\n",
       "      <th>50%</th>\n",
       "      <th>75%</th>\n",
       "      <th>max</th>\n",
       "    </tr>\n",
       "    <tr>\n",
       "      <th>color</th>\n",
       "      <th></th>\n",
       "      <th></th>\n",
       "      <th></th>\n",
       "      <th></th>\n",
       "      <th></th>\n",
       "      <th></th>\n",
       "      <th></th>\n",
       "      <th></th>\n",
       "    </tr>\n",
       "  </thead>\n",
       "  <tbody>\n",
       "    <tr>\n",
       "      <th>BLACK</th>\n",
       "      <td>63.0</td>\n",
       "      <td>113285.714286</td>\n",
       "      <td>73196.031219</td>\n",
       "      <td>17000.0</td>\n",
       "      <td>65000.0</td>\n",
       "      <td>95000.0</td>\n",
       "      <td>147500.0</td>\n",
       "      <td>410000.0</td>\n",
       "    </tr>\n",
       "    <tr>\n",
       "      <th>BLUE</th>\n",
       "      <td>128.0</td>\n",
       "      <td>146148.437500</td>\n",
       "      <td>181388.480732</td>\n",
       "      <td>15000.0</td>\n",
       "      <td>59250.0</td>\n",
       "      <td>100000.0</td>\n",
       "      <td>160000.0</td>\n",
       "      <td>1800000.0</td>\n",
       "    </tr>\n",
       "    <tr>\n",
       "      <th>RED</th>\n",
       "      <td>45.0</td>\n",
       "      <td>176333.333333</td>\n",
       "      <td>92185.583570</td>\n",
       "      <td>40000.0</td>\n",
       "      <td>120000.0</td>\n",
       "      <td>150000.0</td>\n",
       "      <td>210000.0</td>\n",
       "      <td>480000.0</td>\n",
       "    </tr>\n",
       "  </tbody>\n",
       "</table>\n",
       "</div>"
      ],
      "text/plain": [
       "       count           mean            std      min       25%       50%  \\\n",
       "color                                                                     \n",
       "BLACK   63.0  113285.714286   73196.031219  17000.0   65000.0   95000.0   \n",
       "BLUE   128.0  146148.437500  181388.480732  15000.0   59250.0  100000.0   \n",
       "RED     45.0  176333.333333   92185.583570  40000.0  120000.0  150000.0   \n",
       "\n",
       "            75%        max  \n",
       "color                       \n",
       "BLACK  147500.0   410000.0  \n",
       "BLUE   160000.0  1800000.0  \n",
       "RED    210000.0   480000.0  "
      ]
     },
     "execution_count": 47,
     "metadata": {},
     "output_type": "execute_result"
    }
   ],
   "source": [
    "df.groupby('color')['sale_price'].describe()"
   ]
  },
  {
   "cell_type": "markdown",
   "metadata": {},
   "source": [
    "Before analyzing the sale prices of the widgets. I first want to address the Blue widget that sold for \\$1.8 million, which is appears to be an outlier and might be erroneous. It is possible that it might have sold for \\$180,000 instead."
   ]
  },
  {
   "cell_type": "code",
   "execution_count": 58,
   "metadata": {
    "ExecuteTime": {
     "end_time": "2017-08-27T18:43:10.096879Z",
     "start_time": "2017-08-27T18:43:10.082538Z"
    }
   },
   "outputs": [
    {
     "data": {
      "text/html": [
       "<div>\n",
       "<style>\n",
       "    .dataframe thead tr:only-child th {\n",
       "        text-align: right;\n",
       "    }\n",
       "\n",
       "    .dataframe thead th {\n",
       "        text-align: left;\n",
       "    }\n",
       "\n",
       "    .dataframe tbody tr th {\n",
       "        vertical-align: top;\n",
       "    }\n",
       "</style>\n",
       "<table border=\"1\" class=\"dataframe\">\n",
       "  <thead>\n",
       "    <tr style=\"text-align: right;\">\n",
       "      <th></th>\n",
       "      <th>color</th>\n",
       "      <th>edges</th>\n",
       "      <th>sale_price</th>\n",
       "      <th>cost</th>\n",
       "      <th>profit</th>\n",
       "    </tr>\n",
       "  </thead>\n",
       "  <tbody>\n",
       "    <tr>\n",
       "      <th>142</th>\n",
       "      <td>BLUE</td>\n",
       "      <td>4</td>\n",
       "      <td>1800000</td>\n",
       "      <td>80000.0</td>\n",
       "      <td>1720000.0</td>\n",
       "    </tr>\n",
       "  </tbody>\n",
       "</table>\n",
       "</div>"
      ],
      "text/plain": [
       "    color  edges  sale_price     cost     profit\n",
       "142  BLUE      4     1800000  80000.0  1720000.0"
      ]
     },
     "execution_count": 58,
     "metadata": {},
     "output_type": "execute_result"
    }
   ],
   "source": [
    "# identify the outlier\n",
    "df[df.sale_price == 1800000]"
   ]
  },
  {
   "cell_type": "markdown",
   "metadata": {},
   "source": [
    "The outlier had four edges. Now I'd like to look at the characteristics of other four-edged widgets."
   ]
  },
  {
   "cell_type": "code",
   "execution_count": 64,
   "metadata": {
    "ExecuteTime": {
     "end_time": "2017-08-27T18:50:45.116935Z",
     "start_time": "2017-08-27T18:50:45.084941Z"
    }
   },
   "outputs": [
    {
     "name": "stdout",
     "output_type": "stream",
     "text": [
      "Four-edged Widgets\n",
      "-------------------\n",
      "Max sale price: 315000.00\n",
      "Average sale price: 99835.62\n",
      "Median sale price: 95000.00\n",
      "\n",
      "BLUE Four-edged Widgets\n",
      "-------------------\n",
      "Max sale price: 315000.00\n",
      "Average sale price: 96045.45\n",
      "Median sale price: 95000.00\n",
      "\n"
     ]
    }
   ],
   "source": [
    "print('Four-edged Widgets\\n'\n",
    "      '-------------------\\n'\n",
    "      'Max sale price: {:.2f}\\n'\n",
    "      'Average sale price: {:.2f}\\n'\n",
    "      'Median sale price: {:.2f}\\n'\n",
    "      '\\n'\n",
    "      'BLUE Four-edged Widgets\\n'\n",
    "      '-------------------\\n'\n",
    "      'Max sale price: {:.2f}\\n'\n",
    "      'Average sale price: {:.2f}\\n'\n",
    "      'Median sale price: {:.2f}\\n'.format(df[(df.edges == 4) & (df.sale_price < 1800000)].sale_price.max(),\n",
    "                                          df[(df.edges == 4) & (df.sale_price < 1800000)].sale_price.mean(),\n",
    "                                          df[(df.edges == 4) & (df.sale_price < 1800000)].sale_price.median(),\n",
    "                                          df[(df.edges == 4) & (df.sale_price < 1800000) & (df.color == 'BLUE')].sale_price.max(),\n",
    "                                           df[(df.edges == 4) & (df.sale_price < 1800000) & (df.color == 'BLUE')].sale_price.mean(),\n",
    "                                           df[(df.edges == 4) & (df.sale_price < 1800000) & (df.color == 'BLUE')].sale_price.median()))"
   ]
  },
  {
   "cell_type": "markdown",
   "metadata": {},
   "source": [
    "The next-closest sale price for any four-edged widget was \\$315,000 and the mean and median sale prices for four-edged widgets fall between \\$95,000 and \\$100,000, included Blue, four-edged widgets. It seems safe to assume the widget that sold for \\$1.8 million is an erroneous entry. Without knowing more about the widget domain I'm going to set the sale price of this widget to the average sale price of Blue, four-edged widgets rather than assume it was an order-of-magnitude error."
   ]
  },
  {
   "cell_type": "code",
   "execution_count": 84,
   "metadata": {
    "ExecuteTime": {
     "end_time": "2017-08-27T18:59:23.384253Z",
     "start_time": "2017-08-27T18:59:23.369844Z"
    }
   },
   "outputs": [
    {
     "data": {
      "text/plain": [
       "color            BLUE\n",
       "edges               4\n",
       "sale_price    96045.5\n",
       "cost            80000\n",
       "profit        16045.5\n",
       "Name: 142, dtype: object"
      ]
     },
     "execution_count": 84,
     "metadata": {},
     "output_type": "execute_result"
    }
   ],
   "source": [
    "# set erroneous sale price to average sale price of blue, four-edged widgets\n",
    "df.iloc[141, 2] = df[(df.edges == 4) & (df.sale_price < 1800000) & (df.color == 'BLUE')].sale_price.mean()\n",
    "df.iloc[141, :]"
   ]
  },
  {
   "cell_type": "code",
   "execution_count": 85,
   "metadata": {
    "ExecuteTime": {
     "end_time": "2017-08-27T18:59:45.519984Z",
     "start_time": "2017-08-27T18:59:45.481194Z"
    }
   },
   "outputs": [
    {
     "data": {
      "text/html": [
       "<div>\n",
       "<style>\n",
       "    .dataframe thead tr:only-child th {\n",
       "        text-align: right;\n",
       "    }\n",
       "\n",
       "    .dataframe thead th {\n",
       "        text-align: left;\n",
       "    }\n",
       "\n",
       "    .dataframe tbody tr th {\n",
       "        vertical-align: top;\n",
       "    }\n",
       "</style>\n",
       "<table border=\"1\" class=\"dataframe\">\n",
       "  <thead>\n",
       "    <tr style=\"text-align: right;\">\n",
       "      <th></th>\n",
       "      <th>count</th>\n",
       "      <th>mean</th>\n",
       "      <th>std</th>\n",
       "      <th>min</th>\n",
       "      <th>25%</th>\n",
       "      <th>50%</th>\n",
       "      <th>75%</th>\n",
       "      <th>max</th>\n",
       "    </tr>\n",
       "    <tr>\n",
       "      <th>color</th>\n",
       "      <th></th>\n",
       "      <th></th>\n",
       "      <th></th>\n",
       "      <th></th>\n",
       "      <th></th>\n",
       "      <th></th>\n",
       "      <th></th>\n",
       "      <th></th>\n",
       "    </tr>\n",
       "  </thead>\n",
       "  <tbody>\n",
       "    <tr>\n",
       "      <th>BLACK</th>\n",
       "      <td>63.0</td>\n",
       "      <td>113285.714286</td>\n",
       "      <td>73196.031219</td>\n",
       "      <td>17000.0</td>\n",
       "      <td>65000.0</td>\n",
       "      <td>95000.0</td>\n",
       "      <td>147500.0</td>\n",
       "      <td>410000.0</td>\n",
       "    </tr>\n",
       "    <tr>\n",
       "      <th>BLUE</th>\n",
       "      <td>128.0</td>\n",
       "      <td>132836.292614</td>\n",
       "      <td>105857.139208</td>\n",
       "      <td>15000.0</td>\n",
       "      <td>59250.0</td>\n",
       "      <td>100000.0</td>\n",
       "      <td>152500.0</td>\n",
       "      <td>600000.0</td>\n",
       "    </tr>\n",
       "    <tr>\n",
       "      <th>RED</th>\n",
       "      <td>45.0</td>\n",
       "      <td>176333.333333</td>\n",
       "      <td>92185.583570</td>\n",
       "      <td>40000.0</td>\n",
       "      <td>120000.0</td>\n",
       "      <td>150000.0</td>\n",
       "      <td>210000.0</td>\n",
       "      <td>480000.0</td>\n",
       "    </tr>\n",
       "  </tbody>\n",
       "</table>\n",
       "</div>"
      ],
      "text/plain": [
       "       count           mean            std      min       25%       50%  \\\n",
       "color                                                                     \n",
       "BLACK   63.0  113285.714286   73196.031219  17000.0   65000.0   95000.0   \n",
       "BLUE   128.0  132836.292614  105857.139208  15000.0   59250.0  100000.0   \n",
       "RED     45.0  176333.333333   92185.583570  40000.0  120000.0  150000.0   \n",
       "\n",
       "            75%       max  \n",
       "color                      \n",
       "BLACK  147500.0  410000.0  \n",
       "BLUE   152500.0  600000.0  \n",
       "RED    210000.0  480000.0  "
      ]
     },
     "execution_count": 85,
     "metadata": {},
     "output_type": "execute_result"
    }
   ],
   "source": [
    "# re-display sale_price summary statistics\n",
    "df.groupby('color')['sale_price'].describe()"
   ]
  },
  {
   "cell_type": "markdown",
   "metadata": {},
   "source": [
    "Our sales of Red widgets were higher on-average than out competitors'. We sold our widgets for an average of \\$176,333.33 per widget, with the lowest sale being for \\$40,000 and the highest for \\$480,000. However, the highest sale price was for a Blue widget at \\$600,000."
   ]
  },
  {
   "cell_type": "markdown",
   "metadata": {},
   "source": [
    "### Profit Analysis"
   ]
  },
  {
   "cell_type": "code",
   "execution_count": 87,
   "metadata": {
    "ExecuteTime": {
     "end_time": "2017-08-27T19:04:13.464140Z",
     "start_time": "2017-08-27T19:04:13.385851Z"
    }
   },
   "outputs": [
    {
     "data": {
      "text/html": [
       "<div>\n",
       "<style>\n",
       "    .dataframe thead tr:only-child th {\n",
       "        text-align: right;\n",
       "    }\n",
       "\n",
       "    .dataframe thead th {\n",
       "        text-align: left;\n",
       "    }\n",
       "\n",
       "    .dataframe tbody tr th {\n",
       "        vertical-align: top;\n",
       "    }\n",
       "</style>\n",
       "<table border=\"1\" class=\"dataframe\">\n",
       "  <thead>\n",
       "    <tr style=\"text-align: right;\">\n",
       "      <th></th>\n",
       "      <th>count</th>\n",
       "      <th>mean</th>\n",
       "      <th>std</th>\n",
       "      <th>min</th>\n",
       "      <th>25%</th>\n",
       "      <th>50%</th>\n",
       "      <th>75%</th>\n",
       "      <th>max</th>\n",
       "    </tr>\n",
       "    <tr>\n",
       "      <th>color</th>\n",
       "      <th></th>\n",
       "      <th></th>\n",
       "      <th></th>\n",
       "      <th></th>\n",
       "      <th></th>\n",
       "      <th></th>\n",
       "      <th></th>\n",
       "      <th></th>\n",
       "    </tr>\n",
       "  </thead>\n",
       "  <tbody>\n",
       "    <tr>\n",
       "      <th>BLACK</th>\n",
       "      <td>63.0</td>\n",
       "      <td>30111.111111</td>\n",
       "      <td>64594.794335</td>\n",
       "      <td>-70000.0</td>\n",
       "      <td>-5000.0</td>\n",
       "      <td>15000.0</td>\n",
       "      <td>47500.0</td>\n",
       "      <td>310000.0</td>\n",
       "    </tr>\n",
       "    <tr>\n",
       "      <th>BLUE</th>\n",
       "      <td>128.0</td>\n",
       "      <td>50492.542614</td>\n",
       "      <td>98085.887905</td>\n",
       "      <td>-68000.0</td>\n",
       "      <td>-10000.0</td>\n",
       "      <td>20000.0</td>\n",
       "      <td>66250.0</td>\n",
       "      <td>500000.0</td>\n",
       "    </tr>\n",
       "    <tr>\n",
       "      <th>RED</th>\n",
       "      <td>45.0</td>\n",
       "      <td>83444.444444</td>\n",
       "      <td>89161.639620</td>\n",
       "      <td>-60000.0</td>\n",
       "      <td>30000.0</td>\n",
       "      <td>50000.0</td>\n",
       "      <td>110000.0</td>\n",
       "      <td>380000.0</td>\n",
       "    </tr>\n",
       "  </tbody>\n",
       "</table>\n",
       "</div>"
      ],
      "text/plain": [
       "       count          mean           std      min      25%      50%       75%  \\\n",
       "color                                                                           \n",
       "BLACK   63.0  30111.111111  64594.794335 -70000.0  -5000.0  15000.0   47500.0   \n",
       "BLUE   128.0  50492.542614  98085.887905 -68000.0 -10000.0  20000.0   66250.0   \n",
       "RED     45.0  83444.444444  89161.639620 -60000.0  30000.0  50000.0  110000.0   \n",
       "\n",
       "            max  \n",
       "color            \n",
       "BLACK  310000.0  \n",
       "BLUE   500000.0  \n",
       "RED    380000.0  "
      ]
     },
     "execution_count": 87,
     "metadata": {},
     "output_type": "execute_result"
    }
   ],
   "source": [
    "df.groupby('color')['profit'].describe()"
   ]
  },
  {
   "cell_type": "code",
   "execution_count": 109,
   "metadata": {
    "ExecuteTime": {
     "end_time": "2017-08-27T19:07:25.812309Z",
     "start_time": "2017-08-27T19:07:25.798749Z"
    }
   },
   "outputs": [
    {
     "name": "stdout",
     "output_type": "stream",
     "text": [
      "Total Profit\n",
      "-------------\n",
      "Black: 1897000.00\n",
      "Blue: 6463045.45\n",
      "Red: 3755000.00\n",
      "\n"
     ]
    }
   ],
   "source": [
    "print('Total Profit\\n'\n",
    "      '-------------\\n'\n",
    "     'Black: {:.2f}\\n'\n",
    "     'Blue: {:.2f}\\n'\n",
    "     'Red: {:.2f}\\n'.format(df[df.color == 'BLACK'].profit.sum(),\n",
    "                         df[df.color == 'BLUE'].profit.sum(),\n",
    "                         df[df.color == 'RED'].profit.sum()))"
   ]
  },
  {
   "cell_type": "markdown",
   "metadata": {
    "ExecuteTime": {
     "end_time": "2017-08-27T19:06:34.943772Z",
     "start_time": "2017-08-27T19:06:34.934794Z"
    }
   },
   "source": [
    "Compared to our competitor that produces Black widgets, we performed very well in terms of profits. We sold our widgets for roughly twice their profit. However, we were beat significantly by the producer of Blue widgets, which almost doubled our profits. The data shows that we profited well of our widgets. We had the highest average profit of almost \\$90,000 per widget and more than 90% of our sales were profitable (we lost money on fewer than 9% of sales). However, the manufacturer of Blue widgets had the greatest single profit of \\$500,000 for a widget. Despite our performance, the manufacturer of Blue widgets nearly doubled our profits simply because it sold almost three times as many widgets than we did."
   ]
  },
  {
   "cell_type": "markdown",
   "metadata": {},
   "source": [
    "### Conclusion"
   ]
  },
  {
   "cell_type": "markdown",
   "metadata": {},
   "source": [
    "We resoundly outperformed our competitor that manufactures Black widgets and our widgets sold very well overall. However, the manufacturer of Blue widgets commanded a majority of widget sales at the auction and was able to make almost twice as much profit as we did as a result of the greater volume of sales. It seems that our focus on the production of five-edged widgets payed off but we need to make an effort to accumulate a greater market share at auction. More work will need to be done to determine whether this should be accomplished via greater production of five-edged widgets or by diversifying our widget offerings to produce more three- and four-edged widgets."
   ]
  },
  {
   "cell_type": "code",
   "execution_count": null,
   "metadata": {
    "collapsed": true
   },
   "outputs": [],
   "source": []
  }
 ],
 "metadata": {
  "kernelspec": {
   "display_name": "Python 3",
   "language": "python",
   "name": "python3"
  },
  "language_info": {
   "codemirror_mode": {
    "name": "ipython",
    "version": 3
   },
   "file_extension": ".py",
   "mimetype": "text/x-python",
   "name": "python",
   "nbconvert_exporter": "python",
   "pygments_lexer": "ipython3",
   "version": "3.6.1"
  },
  "latex_envs": {
   "LaTeX_envs_menu_present": true,
   "autocomplete": true,
   "bibliofile": "biblio.bib",
   "cite_by": "apalike",
   "current_citInitial": 1,
   "eqLabelWithNumbers": true,
   "eqNumInitial": 1,
   "hotkeys": {
    "equation": "Ctrl-E",
    "itemize": "Ctrl-I"
   },
   "labels_anchors": false,
   "latex_user_defs": false,
   "report_style_numbering": false,
   "user_envs_cfg": false
  },
  "varInspector": {
   "cols": {
    "lenName": 16,
    "lenType": 16,
    "lenVar": 40
   },
   "kernels_config": {
    "python": {
     "delete_cmd_postfix": "",
     "delete_cmd_prefix": "del ",
     "library": "var_list.py",
     "varRefreshCmd": "print(var_dic_list())"
    },
    "r": {
     "delete_cmd_postfix": ") ",
     "delete_cmd_prefix": "rm(",
     "library": "var_list.r",
     "varRefreshCmd": "cat(var_dic_list()) "
    }
   },
   "types_to_exclude": [
    "module",
    "function",
    "builtin_function_or_method",
    "instance",
    "_Feature"
   ],
   "window_display": false
  }
 },
 "nbformat": 4,
 "nbformat_minor": 2
}
